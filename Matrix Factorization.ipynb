{
 "cells": [
  {
   "cell_type": "code",
   "execution_count": 2,
   "metadata": {},
   "outputs": [],
   "source": [
    "import numpy as np\n",
    "import pandas as pd\n",
    "from pathlib import Path\n",
    "from sklearn.model_selection import train_test_split\n",
    "\n",
    "pd.options.display.max_columns= None"
   ]
  },
  {
   "cell_type": "code",
   "execution_count": 3,
   "metadata": {},
   "outputs": [],
   "source": [
    "DATA_FOLDER = Path('data/ml-latest-small')\n",
    "MOVIES_FILEPATH = DATA_FOLDER / 'movies.csv'\n",
    "RATINGS_FILEPATH = DATA_FOLDER / 'ratings.csv'"
   ]
  },
  {
   "cell_type": "code",
   "execution_count": 4,
   "metadata": {},
   "outputs": [
    {
     "data": {
      "text/html": [
       "<div>\n",
       "<style scoped>\n",
       "    .dataframe tbody tr th:only-of-type {\n",
       "        vertical-align: middle;\n",
       "    }\n",
       "\n",
       "    .dataframe tbody tr th {\n",
       "        vertical-align: top;\n",
       "    }\n",
       "\n",
       "    .dataframe thead th {\n",
       "        text-align: right;\n",
       "    }\n",
       "</style>\n",
       "<table border=\"1\" class=\"dataframe\">\n",
       "  <thead>\n",
       "    <tr style=\"text-align: right;\">\n",
       "      <th></th>\n",
       "      <th>movieId</th>\n",
       "      <th>title</th>\n",
       "      <th>genres</th>\n",
       "    </tr>\n",
       "  </thead>\n",
       "  <tbody>\n",
       "    <tr>\n",
       "      <th>0</th>\n",
       "      <td>1</td>\n",
       "      <td>Toy Story (1995)</td>\n",
       "      <td>Adventure|Animation|Children|Comedy|Fantasy</td>\n",
       "    </tr>\n",
       "    <tr>\n",
       "      <th>1</th>\n",
       "      <td>2</td>\n",
       "      <td>Jumanji (1995)</td>\n",
       "      <td>Adventure|Children|Fantasy</td>\n",
       "    </tr>\n",
       "    <tr>\n",
       "      <th>2</th>\n",
       "      <td>3</td>\n",
       "      <td>Grumpier Old Men (1995)</td>\n",
       "      <td>Comedy|Romance</td>\n",
       "    </tr>\n",
       "    <tr>\n",
       "      <th>3</th>\n",
       "      <td>4</td>\n",
       "      <td>Waiting to Exhale (1995)</td>\n",
       "      <td>Comedy|Drama|Romance</td>\n",
       "    </tr>\n",
       "    <tr>\n",
       "      <th>4</th>\n",
       "      <td>5</td>\n",
       "      <td>Father of the Bride Part II (1995)</td>\n",
       "      <td>Comedy</td>\n",
       "    </tr>\n",
       "  </tbody>\n",
       "</table>\n",
       "</div>"
      ],
      "text/plain": [
       "   movieId                               title  \\\n",
       "0        1                    Toy Story (1995)   \n",
       "1        2                      Jumanji (1995)   \n",
       "2        3             Grumpier Old Men (1995)   \n",
       "3        4            Waiting to Exhale (1995)   \n",
       "4        5  Father of the Bride Part II (1995)   \n",
       "\n",
       "                                        genres  \n",
       "0  Adventure|Animation|Children|Comedy|Fantasy  \n",
       "1                   Adventure|Children|Fantasy  \n",
       "2                               Comedy|Romance  \n",
       "3                         Comedy|Drama|Romance  \n",
       "4                                       Comedy  "
      ]
     },
     "execution_count": 4,
     "metadata": {},
     "output_type": "execute_result"
    }
   ],
   "source": [
    "movies = pd.read_csv(MOVIES_FILEPATH)\n",
    "movies.head()"
   ]
  },
  {
   "cell_type": "code",
   "execution_count": 5,
   "metadata": {},
   "outputs": [
    {
     "data": {
      "text/html": [
       "<div>\n",
       "<style scoped>\n",
       "    .dataframe tbody tr th:only-of-type {\n",
       "        vertical-align: middle;\n",
       "    }\n",
       "\n",
       "    .dataframe tbody tr th {\n",
       "        vertical-align: top;\n",
       "    }\n",
       "\n",
       "    .dataframe thead th {\n",
       "        text-align: right;\n",
       "    }\n",
       "</style>\n",
       "<table border=\"1\" class=\"dataframe\">\n",
       "  <thead>\n",
       "    <tr style=\"text-align: right;\">\n",
       "      <th></th>\n",
       "      <th>userId</th>\n",
       "      <th>movieId</th>\n",
       "      <th>rating</th>\n",
       "      <th>timestamp</th>\n",
       "    </tr>\n",
       "  </thead>\n",
       "  <tbody>\n",
       "    <tr>\n",
       "      <th>0</th>\n",
       "      <td>1</td>\n",
       "      <td>1</td>\n",
       "      <td>4.0</td>\n",
       "      <td>964982703</td>\n",
       "    </tr>\n",
       "    <tr>\n",
       "      <th>1</th>\n",
       "      <td>1</td>\n",
       "      <td>3</td>\n",
       "      <td>4.0</td>\n",
       "      <td>964981247</td>\n",
       "    </tr>\n",
       "    <tr>\n",
       "      <th>2</th>\n",
       "      <td>1</td>\n",
       "      <td>6</td>\n",
       "      <td>4.0</td>\n",
       "      <td>964982224</td>\n",
       "    </tr>\n",
       "    <tr>\n",
       "      <th>3</th>\n",
       "      <td>1</td>\n",
       "      <td>47</td>\n",
       "      <td>5.0</td>\n",
       "      <td>964983815</td>\n",
       "    </tr>\n",
       "    <tr>\n",
       "      <th>4</th>\n",
       "      <td>1</td>\n",
       "      <td>50</td>\n",
       "      <td>5.0</td>\n",
       "      <td>964982931</td>\n",
       "    </tr>\n",
       "  </tbody>\n",
       "</table>\n",
       "</div>"
      ],
      "text/plain": [
       "   userId  movieId  rating  timestamp\n",
       "0       1        1     4.0  964982703\n",
       "1       1        3     4.0  964981247\n",
       "2       1        6     4.0  964982224\n",
       "3       1       47     5.0  964983815\n",
       "4       1       50     5.0  964982931"
      ]
     },
     "execution_count": 5,
     "metadata": {},
     "output_type": "execute_result"
    }
   ],
   "source": [
    "ratings = pd.read_csv(RATINGS_FILEPATH)\n",
    "ratings.head()"
   ]
  },
  {
   "cell_type": "markdown",
   "metadata": {},
   "source": [
    "#### converting as category"
   ]
  },
  {
   "cell_type": "code",
   "execution_count": 6,
   "metadata": {},
   "outputs": [],
   "source": [
    "ratings.userId = ratings.userId.astype('category').cat.codes.values \n",
    "ratings.movieId = ratings.movieId.astype('category').cat.codes.values"
   ]
  },
  {
   "cell_type": "code",
   "execution_count": 7,
   "metadata": {},
   "outputs": [],
   "source": [
    "train, test = train_test_split(ratings, test_size=0.2)\n"
   ]
  },
  {
   "cell_type": "code",
   "execution_count": 8,
   "metadata": {},
   "outputs": [
    {
     "data": {
      "text/plain": [
       "Index(['userId', 'movieId', 'rating', 'timestamp'], dtype='object')"
      ]
     },
     "execution_count": 8,
     "metadata": {},
     "output_type": "execute_result"
    }
   ],
   "source": [
    "train.columns"
   ]
  },
  {
   "cell_type": "code",
   "execution_count": 9,
   "metadata": {},
   "outputs": [
    {
     "name": "stderr",
     "output_type": "stream",
     "text": [
      "Using TensorFlow backend.\n"
     ]
    }
   ],
   "source": [
    "import tensorflow as tf\n",
    "from tensorflow import keras\n",
    "from keras.optimizers import Adam"
   ]
  },
  {
   "cell_type": "code",
   "execution_count": 10,
   "metadata": {},
   "outputs": [],
   "source": [
    "n_users, n_movies = len(ratings.userId.unique()), len(ratings.movieId.unique()) #taking the count of movies and users\n",
    "n_latent_factors = 20 # k value"
   ]
  },
  {
   "cell_type": "markdown",
   "metadata": {},
   "source": [
    "#### Building the layers"
   ]
  },
  {
   "cell_type": "code",
   "execution_count": 11,
   "metadata": {},
   "outputs": [],
   "source": [
    "movie_input = keras.layers.Input(shape=[1],name='movie')\n",
    "movie_embedding = keras.layers.Embedding(n_movies + 1, n_latent_factors, name='Movie-Embedding')(movie_input)\n",
    "movie_vec = keras.layers.Flatten(name='FlattenMovies')(movie_embedding) #taking the embeddings and flattening the input\n",
    " \n",
    "user_input = keras.layers.Input(shape=[1],name='User')\n",
    "user_vec = keras.layers.Flatten(name='FlattenUsers')(keras.layers.Embedding(n_users + 1, n_latent_factors,name='User-Embedding')(user_input))\n",
    " \n",
    "prod = keras.layers.dot([movie_vec, user_vec], axes=1,name='DotProduct')\n",
    "model = keras.Model([user_input, movie_input], prod)#model using inputs as user_input and movie_input, output as prod"
   ]
  },
  {
   "cell_type": "code",
   "execution_count": 12,
   "metadata": {},
   "outputs": [],
   "source": [
    "model.compile(optimizer='adam', loss='mean_squared_error', metrics=['mae', 'mse'])"
   ]
  },
  {
   "cell_type": "code",
   "execution_count": 14,
   "metadata": {},
   "outputs": [
    {
     "name": "stdout",
     "output_type": "stream",
     "text": [
      "Model: \"model\"\n",
      "__________________________________________________________________________________________________\n",
      "Layer (type)                    Output Shape         Param #     Connected to                     \n",
      "==================================================================================================\n",
      "movie (InputLayer)              [(None, 1)]          0                                            \n",
      "__________________________________________________________________________________________________\n",
      "User (InputLayer)               [(None, 1)]          0                                            \n",
      "__________________________________________________________________________________________________\n",
      "Movie-Embedding (Embedding)     (None, 1, 20)        194500      movie[0][0]                      \n",
      "__________________________________________________________________________________________________\n",
      "User-Embedding (Embedding)      (None, 1, 20)        12220       User[0][0]                       \n",
      "__________________________________________________________________________________________________\n",
      "FlattenMovies (Flatten)         (None, 20)           0           Movie-Embedding[0][0]            \n",
      "__________________________________________________________________________________________________\n",
      "FlattenUsers (Flatten)          (None, 20)           0           User-Embedding[0][0]             \n",
      "__________________________________________________________________________________________________\n",
      "DotProduct (Dot)                (None, 1)            0           FlattenMovies[0][0]              \n",
      "                                                                 FlattenUsers[0][0]               \n",
      "==================================================================================================\n",
      "Total params: 206,720\n",
      "Trainable params: 206,720\n",
      "Non-trainable params: 0\n",
      "__________________________________________________________________________________________________\n"
     ]
    }
   ],
   "source": [
    "model.summary()"
   ]
  },
  {
   "cell_type": "code",
   "execution_count": 15,
   "metadata": {},
   "outputs": [
    {
     "name": "stdout",
     "output_type": "stream",
     "text": [
      "WARNING:tensorflow:AutoGraph could not transform <function Model.make_train_function.<locals>.train_function at 0x0000016F2F988598> and will run it as-is.\n",
      "Please report this to the TensorFlow team. When filing the bug, set the verbosity to 10 (on Linux, `export AUTOGRAPH_VERBOSITY=10`) and attach the full output.\n",
      "Cause: Bad argument number for Name: 4, expecting 3\n",
      "To silence this warning, decorate the function with @tf.autograph.experimental.do_not_convert\n",
      "WARNING: AutoGraph could not transform <function Model.make_train_function.<locals>.train_function at 0x0000016F2F988598> and will run it as-is.\n",
      "Please report this to the TensorFlow team. When filing the bug, set the verbosity to 10 (on Linux, `export AUTOGRAPH_VERBOSITY=10`) and attach the full output.\n",
      "Cause: Bad argument number for Name: 4, expecting 3\n",
      "To silence this warning, decorate the function with @tf.autograph.experimental.do_not_convert\n"
     ]
    }
   ],
   "source": [
    "history = model.fit([train.userId, train.movieId], train.rating, epochs=100, verbose=0)"
   ]
  },
  {
   "cell_type": "code",
   "execution_count": 16,
   "metadata": {},
   "outputs": [
    {
     "name": "stdout",
     "output_type": "stream",
     "text": [
      "WARNING:tensorflow:AutoGraph could not transform <function Model.make_test_function.<locals>.test_function at 0x0000016F2FD26D90> and will run it as-is.\n",
      "Please report this to the TensorFlow team. When filing the bug, set the verbosity to 10 (on Linux, `export AUTOGRAPH_VERBOSITY=10`) and attach the full output.\n",
      "Cause: Bad argument number for Name: 4, expecting 3\n",
      "To silence this warning, decorate the function with @tf.autograph.experimental.do_not_convert\n",
      "WARNING: AutoGraph could not transform <function Model.make_test_function.<locals>.test_function at 0x0000016F2FD26D90> and will run it as-is.\n",
      "Please report this to the TensorFlow team. When filing the bug, set the verbosity to 10 (on Linux, `export AUTOGRAPH_VERBOSITY=10`) and attach the full output.\n",
      "Cause: Bad argument number for Name: 4, expecting 3\n",
      "To silence this warning, decorate the function with @tf.autograph.experimental.do_not_convert\n",
      "20168/20168 [==============================] - 33s 2ms/step - loss: 1.9812 - mae: 1.0204 - mse: 1.9812\n"
     ]
    }
   ],
   "source": [
    "results = model.evaluate((test.userId, test.movieId), test.rating, batch_size=1)"
   ]
  },
  {
   "cell_type": "code",
   "execution_count": 17,
   "metadata": {},
   "outputs": [
    {
     "data": {
      "text/html": [
       "<div>\n",
       "<style scoped>\n",
       "    .dataframe tbody tr th:only-of-type {\n",
       "        vertical-align: middle;\n",
       "    }\n",
       "\n",
       "    .dataframe tbody tr th {\n",
       "        vertical-align: top;\n",
       "    }\n",
       "\n",
       "    .dataframe thead th {\n",
       "        text-align: right;\n",
       "    }\n",
       "</style>\n",
       "<table border=\"1\" class=\"dataframe\">\n",
       "  <thead>\n",
       "    <tr style=\"text-align: right;\">\n",
       "      <th></th>\n",
       "      <th>0</th>\n",
       "      <th>1</th>\n",
       "      <th>2</th>\n",
       "      <th>3</th>\n",
       "      <th>4</th>\n",
       "      <th>5</th>\n",
       "      <th>6</th>\n",
       "      <th>7</th>\n",
       "      <th>8</th>\n",
       "      <th>9</th>\n",
       "      <th>10</th>\n",
       "      <th>11</th>\n",
       "      <th>12</th>\n",
       "      <th>13</th>\n",
       "      <th>14</th>\n",
       "      <th>15</th>\n",
       "      <th>16</th>\n",
       "      <th>17</th>\n",
       "      <th>18</th>\n",
       "      <th>19</th>\n",
       "    </tr>\n",
       "  </thead>\n",
       "  <tbody>\n",
       "    <tr>\n",
       "      <th>count</th>\n",
       "      <td>9725.000000</td>\n",
       "      <td>9725.000000</td>\n",
       "      <td>9725.000000</td>\n",
       "      <td>9725.000000</td>\n",
       "      <td>9725.000000</td>\n",
       "      <td>9725.000000</td>\n",
       "      <td>9725.000000</td>\n",
       "      <td>9725.000000</td>\n",
       "      <td>9725.000000</td>\n",
       "      <td>9725.000000</td>\n",
       "      <td>9725.000000</td>\n",
       "      <td>9725.000000</td>\n",
       "      <td>9725.000000</td>\n",
       "      <td>9725.000000</td>\n",
       "      <td>9725.000000</td>\n",
       "      <td>9725.000000</td>\n",
       "      <td>9725.000000</td>\n",
       "      <td>9725.000000</td>\n",
       "      <td>9725.000000</td>\n",
       "      <td>9725.000000</td>\n",
       "    </tr>\n",
       "    <tr>\n",
       "      <th>mean</th>\n",
       "      <td>0.274392</td>\n",
       "      <td>-0.276090</td>\n",
       "      <td>0.275836</td>\n",
       "      <td>0.194063</td>\n",
       "      <td>0.198458</td>\n",
       "      <td>-0.277091</td>\n",
       "      <td>-0.278327</td>\n",
       "      <td>-0.270145</td>\n",
       "      <td>0.276235</td>\n",
       "      <td>0.268449</td>\n",
       "      <td>-0.272086</td>\n",
       "      <td>0.253619</td>\n",
       "      <td>0.275843</td>\n",
       "      <td>-0.256721</td>\n",
       "      <td>0.269351</td>\n",
       "      <td>0.201775</td>\n",
       "      <td>-0.265423</td>\n",
       "      <td>0.249132</td>\n",
       "      <td>-0.248116</td>\n",
       "      <td>0.272122</td>\n",
       "    </tr>\n",
       "    <tr>\n",
       "      <th>std</th>\n",
       "      <td>0.241268</td>\n",
       "      <td>0.239343</td>\n",
       "      <td>0.230014</td>\n",
       "      <td>0.298006</td>\n",
       "      <td>0.334532</td>\n",
       "      <td>0.235360</td>\n",
       "      <td>0.226697</td>\n",
       "      <td>0.237728</td>\n",
       "      <td>0.241221</td>\n",
       "      <td>0.241803</td>\n",
       "      <td>0.277970</td>\n",
       "      <td>0.276214</td>\n",
       "      <td>0.242011</td>\n",
       "      <td>0.253987</td>\n",
       "      <td>0.235515</td>\n",
       "      <td>0.299639</td>\n",
       "      <td>0.263032</td>\n",
       "      <td>0.286011</td>\n",
       "      <td>0.286714</td>\n",
       "      <td>0.262880</td>\n",
       "    </tr>\n",
       "    <tr>\n",
       "      <th>min</th>\n",
       "      <td>-1.202378</td>\n",
       "      <td>-2.332898</td>\n",
       "      <td>-0.942256</td>\n",
       "      <td>-1.545462</td>\n",
       "      <td>-1.847330</td>\n",
       "      <td>-1.596400</td>\n",
       "      <td>-2.058715</td>\n",
       "      <td>-1.906422</td>\n",
       "      <td>-1.140967</td>\n",
       "      <td>-1.500451</td>\n",
       "      <td>-1.978323</td>\n",
       "      <td>-1.181476</td>\n",
       "      <td>-1.416301</td>\n",
       "      <td>-2.104303</td>\n",
       "      <td>-1.297860</td>\n",
       "      <td>-1.587173</td>\n",
       "      <td>-2.037366</td>\n",
       "      <td>-1.301410</td>\n",
       "      <td>-2.115776</td>\n",
       "      <td>-1.248034</td>\n",
       "    </tr>\n",
       "    <tr>\n",
       "      <th>25%</th>\n",
       "      <td>0.150740</td>\n",
       "      <td>-0.377625</td>\n",
       "      <td>0.162280</td>\n",
       "      <td>0.034020</td>\n",
       "      <td>-0.000054</td>\n",
       "      <td>-0.378714</td>\n",
       "      <td>-0.380843</td>\n",
       "      <td>-0.370774</td>\n",
       "      <td>0.148171</td>\n",
       "      <td>0.139756</td>\n",
       "      <td>-0.394016</td>\n",
       "      <td>0.099921</td>\n",
       "      <td>0.158399</td>\n",
       "      <td>-0.366582</td>\n",
       "      <td>0.150960</td>\n",
       "      <td>0.038916</td>\n",
       "      <td>-0.383201</td>\n",
       "      <td>0.077526</td>\n",
       "      <td>-0.378496</td>\n",
       "      <td>0.130606</td>\n",
       "    </tr>\n",
       "    <tr>\n",
       "      <th>50%</th>\n",
       "      <td>0.279183</td>\n",
       "      <td>-0.281434</td>\n",
       "      <td>0.288628</td>\n",
       "      <td>0.241813</td>\n",
       "      <td>0.228097</td>\n",
       "      <td>-0.278843</td>\n",
       "      <td>-0.291117</td>\n",
       "      <td>-0.275171</td>\n",
       "      <td>0.287418</td>\n",
       "      <td>0.282136</td>\n",
       "      <td>-0.277030</td>\n",
       "      <td>0.262735</td>\n",
       "      <td>0.286027</td>\n",
       "      <td>-0.258045</td>\n",
       "      <td>0.283418</td>\n",
       "      <td>0.249638</td>\n",
       "      <td>-0.275844</td>\n",
       "      <td>0.272292</td>\n",
       "      <td>-0.248234</td>\n",
       "      <td>0.278569</td>\n",
       "    </tr>\n",
       "    <tr>\n",
       "      <th>75%</th>\n",
       "      <td>0.381500</td>\n",
       "      <td>-0.156782</td>\n",
       "      <td>0.377733</td>\n",
       "      <td>0.354969</td>\n",
       "      <td>0.372803</td>\n",
       "      <td>-0.155897</td>\n",
       "      <td>-0.164733</td>\n",
       "      <td>-0.153203</td>\n",
       "      <td>0.387473</td>\n",
       "      <td>0.380094</td>\n",
       "      <td>-0.102527</td>\n",
       "      <td>0.377035</td>\n",
       "      <td>0.376938</td>\n",
       "      <td>-0.116555</td>\n",
       "      <td>0.376747</td>\n",
       "      <td>0.362331</td>\n",
       "      <td>-0.114427</td>\n",
       "      <td>0.383153</td>\n",
       "      <td>-0.066991</td>\n",
       "      <td>0.383780</td>\n",
       "    </tr>\n",
       "    <tr>\n",
       "      <th>max</th>\n",
       "      <td>1.785250</td>\n",
       "      <td>1.171080</td>\n",
       "      <td>1.688953</td>\n",
       "      <td>1.732763</td>\n",
       "      <td>2.443241</td>\n",
       "      <td>1.297406</td>\n",
       "      <td>1.374755</td>\n",
       "      <td>1.197117</td>\n",
       "      <td>2.074150</td>\n",
       "      <td>1.695162</td>\n",
       "      <td>1.544013</td>\n",
       "      <td>2.144409</td>\n",
       "      <td>1.935503</td>\n",
       "      <td>1.153653</td>\n",
       "      <td>2.042787</td>\n",
       "      <td>1.914645</td>\n",
       "      <td>1.366353</td>\n",
       "      <td>2.288879</td>\n",
       "      <td>1.705622</td>\n",
       "      <td>2.119372</td>\n",
       "    </tr>\n",
       "  </tbody>\n",
       "</table>\n",
       "</div>"
      ],
      "text/plain": [
       "                0            1            2            3            4   \\\n",
       "count  9725.000000  9725.000000  9725.000000  9725.000000  9725.000000   \n",
       "mean      0.274392    -0.276090     0.275836     0.194063     0.198458   \n",
       "std       0.241268     0.239343     0.230014     0.298006     0.334532   \n",
       "min      -1.202378    -2.332898    -0.942256    -1.545462    -1.847330   \n",
       "25%       0.150740    -0.377625     0.162280     0.034020    -0.000054   \n",
       "50%       0.279183    -0.281434     0.288628     0.241813     0.228097   \n",
       "75%       0.381500    -0.156782     0.377733     0.354969     0.372803   \n",
       "max       1.785250     1.171080     1.688953     1.732763     2.443241   \n",
       "\n",
       "                5            6            7            8            9   \\\n",
       "count  9725.000000  9725.000000  9725.000000  9725.000000  9725.000000   \n",
       "mean     -0.277091    -0.278327    -0.270145     0.276235     0.268449   \n",
       "std       0.235360     0.226697     0.237728     0.241221     0.241803   \n",
       "min      -1.596400    -2.058715    -1.906422    -1.140967    -1.500451   \n",
       "25%      -0.378714    -0.380843    -0.370774     0.148171     0.139756   \n",
       "50%      -0.278843    -0.291117    -0.275171     0.287418     0.282136   \n",
       "75%      -0.155897    -0.164733    -0.153203     0.387473     0.380094   \n",
       "max       1.297406     1.374755     1.197117     2.074150     1.695162   \n",
       "\n",
       "                10           11           12           13           14  \\\n",
       "count  9725.000000  9725.000000  9725.000000  9725.000000  9725.000000   \n",
       "mean     -0.272086     0.253619     0.275843    -0.256721     0.269351   \n",
       "std       0.277970     0.276214     0.242011     0.253987     0.235515   \n",
       "min      -1.978323    -1.181476    -1.416301    -2.104303    -1.297860   \n",
       "25%      -0.394016     0.099921     0.158399    -0.366582     0.150960   \n",
       "50%      -0.277030     0.262735     0.286027    -0.258045     0.283418   \n",
       "75%      -0.102527     0.377035     0.376938    -0.116555     0.376747   \n",
       "max       1.544013     2.144409     1.935503     1.153653     2.042787   \n",
       "\n",
       "                15           16           17           18           19  \n",
       "count  9725.000000  9725.000000  9725.000000  9725.000000  9725.000000  \n",
       "mean      0.201775    -0.265423     0.249132    -0.248116     0.272122  \n",
       "std       0.299639     0.263032     0.286011     0.286714     0.262880  \n",
       "min      -1.587173    -2.037366    -1.301410    -2.115776    -1.248034  \n",
       "25%       0.038916    -0.383201     0.077526    -0.378496     0.130606  \n",
       "50%       0.249638    -0.275844     0.272292    -0.248234     0.278569  \n",
       "75%       0.362331    -0.114427     0.383153    -0.066991     0.383780  \n",
       "max       1.914645     1.366353     2.288879     1.705622     2.119372  "
      ]
     },
     "execution_count": 17,
     "metadata": {},
     "output_type": "execute_result"
    }
   ],
   "source": [
    "movie_embedding_learnt = model.get_layer(name='Movie-Embedding').get_weights()[0] #taking the weights from the embedding layer. [1]for bias\n",
    "pd.DataFrame(movie_embedding_learnt).describe()"
   ]
  },
  {
   "cell_type": "code",
   "execution_count": 18,
   "metadata": {},
   "outputs": [],
   "source": [
    "user_embedding_learnt = model.get_layer(name='User-Embedding').get_weights()[0]"
   ]
  },
  {
   "cell_type": "code",
   "execution_count": 22,
   "metadata": {},
   "outputs": [],
   "source": [
    "def recommend(user_id, number_of_movies=5):\n",
    "  movies = user_embedding_learnt[user_id]@movie_embedding_learnt.T\n",
    "  mids = np.argpartition(movies, -number_of_movies)[-number_of_movies:]#to get in partitioned order\n",
    "  return mids"
   ]
  },
  {
   "cell_type": "code",
   "execution_count": 23,
   "metadata": {},
   "outputs": [
    {
     "data": {
      "text/plain": [
       "array([6756, 7841, 1668, 1708, 7647], dtype=int64)"
      ]
     },
     "execution_count": 23,
     "metadata": {},
     "output_type": "execute_result"
    }
   ],
   "source": [
    "recommend(user_id = 1) #5 movies ids for user_id=1"
   ]
  },
  {
   "cell_type": "code",
   "execution_count": null,
   "metadata": {},
   "outputs": [],
   "source": []
  }
 ],
 "metadata": {
  "kernelspec": {
   "display_name": "Python 3",
   "language": "python",
   "name": "python3"
  },
  "language_info": {
   "codemirror_mode": {
    "name": "ipython",
    "version": 3
   },
   "file_extension": ".py",
   "mimetype": "text/x-python",
   "name": "python",
   "nbconvert_exporter": "python",
   "pygments_lexer": "ipython3",
   "version": "3.6.8"
  }
 },
 "nbformat": 4,
 "nbformat_minor": 4
}
